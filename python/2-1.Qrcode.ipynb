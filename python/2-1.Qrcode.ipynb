{
 "cells": [
  {
   "cell_type": "markdown",
   "id": "cc387a5e",
   "metadata": {},
   "source": [
    "9/14\n",
    "미니플젝: 라이브러리, 예외처리, if, for, 파일 IO\n",
    "    현업에서 많이 활용하는 코드"
   ]
  },
  {
   "cell_type": "markdown",
   "id": "18a4de5e",
   "metadata": {},
   "source": [
    "## QRCode를 생성하는 프로그램\n",
    "\n",
    "* https://pypi.org/project/qrcode/"
   ]
  },
  {
   "cell_type": "markdown",
   "id": "001271e6",
   "metadata": {},
   "source": [
    "## 라이브러리 설치"
   ]
  },
  {
   "cell_type": "code",
   "execution_count": 1,
   "id": "c2560c2e",
   "metadata": {},
   "outputs": [
    {
     "name": "stdout",
     "output_type": "stream",
     "text": [
      "Requirement already satisfied: qrcode[pil] in c:\\users\\khs\\appdata\\roaming\\python\\python39\\site-packages (7.3.1)\n",
      "Requirement already satisfied: colorama in c:\\users\\khs\\appdata\\roaming\\python\\python39\\site-packages (from qrcode[pil]) (0.4.5)\n",
      "Collecting pillow\n",
      "  Using cached Pillow-9.2.0-cp39-cp39-win_amd64.whl (3.3 MB)\n",
      "Installing collected packages: pillow\n",
      "Successfully installed pillow-9.2.0\n"
     ]
    }
   ],
   "source": [
    "!pip install qrcode[pil]"
   ]
  },
  {
   "cell_type": "code",
   "execution_count": 2,
   "id": "1cc69613",
   "metadata": {},
   "outputs": [],
   "source": [
    "import qrcode"
   ]
  },
  {
   "cell_type": "code",
   "execution_count": 3,
   "id": "ddc1bb00",
   "metadata": {},
   "outputs": [
    {
     "data": {
      "image/png": "[encoded data removed]",
      "text/plain": [
       "<qrcode.image.pil.PilImage at 0x2167f1fe340>"
      ]
     },
     "execution_count": 3,
     "metadata": {},
     "output_type": "execute_result"
    }
   ],
   "source": [
    "img=qrcode.make('www.naver.com')\n",
    "img"
   ]
  },
  {
   "cell_type": "code",
   "execution_count": 4,
   "id": "c23a0e53",
   "metadata": {},
   "outputs": [
    {
     "data": {
      "text/plain": [
       "qrcode.image.pil.PilImage"
      ]
     },
     "execution_count": 4,
     "metadata": {},
     "output_type": "execute_result"
    }
   ],
   "source": [
    "type(img)"
   ]
  },
  {
   "cell_type": "code",
   "execution_count": 5,
   "id": "d4b57d46",
   "metadata": {},
   "outputs": [],
   "source": [
    "img.save('naver_qr.png')"
   ]
  }
 ],
 "metadata": {
  "kernelspec": {
   "display_name": "Python 3.9.13 64-bit",
   "language": "python",
   "name": "python3"
  },
  "language_info": {
   "codemirror_mode": {
    "name": "ipython",
    "version": 3
   },
   "file_extension": ".py",
   "mimetype": "text/x-python",
   "name": "python",
   "nbconvert_exporter": "python",
   "pygments_lexer": "ipython3",
   "version": "3.9.13"
  },
  "vscode": {
   "interpreter": {
    "hash": "81794d4967e6c3204c66dcd87b604927b115b27c00565d3d43f05ba2f3a2cb0d"
   }
  }
 },
 "nbformat": 4,
 "nbformat_minor": 5
}
